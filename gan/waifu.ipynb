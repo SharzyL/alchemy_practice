{
 "cells": [
  {
   "cell_type": "code",
   "execution_count": 1,
   "metadata": {
    "collapsed": true,
    "pycharm": {
     "is_executing": false
    }
   },
   "outputs": [],
   "source": [
    "import torch\n",
    "import torch.nn as nn\n",
    "import matplotlib.pyplot as plt\n",
    "\n",
    "plt.style.use('dark_background')"
   ]
  },
  {
   "cell_type": "code",
   "execution_count": 2,
   "outputs": [],
   "source": [
    "from gan.waifu_data import Waifu\n",
    "import torch.utils.data as data\n",
    "\n",
    "batch_size = 64\n",
    "\n",
    "WaifuLoader = data.DataLoader(\n",
    "    dataset=Waifu(),\n",
    "    batch_size=batch_size,\n",
    "    num_workers=8,\n",
    "    shuffle=True\n",
    ")"
   ],
   "metadata": {
    "collapsed": false,
    "pycharm": {
     "name": "#%%\n",
     "is_executing": false
    }
   }
  },
  {
   "cell_type": "code",
   "execution_count": 3,
   "outputs": [],
   "source": [
    "from gan.dcgan import dcgan\n",
    "import torch.optim as optim\n",
    "\n",
    "z_dim = 128\n",
    "channels = [512, 256, 128, 64, 3]\n",
    "kernel_size = [4, 5, 4, 4, 4]\n",
    "stride = [2, 3, 2, 2, 2]\n",
    "padding = [0, 1, 1, 1, 1]\n",
    "lr = 2e-4\n",
    "betas = (0.5, 0.999)\n",
    "\n",
    "generator, discriminator = dcgan(kernel_size, z_dim, channels, stride, padding)\n",
    "\n",
    "loss_func = nn.BCELoss()\n",
    "def get_noise(size):\n",
    "    return torch.randn(size=(size, z_dim, 1, 1)).cuda()\n"
   ],
   "metadata": {
    "collapsed": false,
    "pycharm": {
     "name": "#%%\n",
     "is_executing": false
    }
   }
  },
  {
   "cell_type": "code",
   "execution_count": 4,
   "outputs": [],
   "source": [
    "g_optimizer = optim.Adam(generator.parameters(), lr, betas)\n",
    "d_optimizer = optim.Adam(discriminator.parameters(), lr, betas)\n"
   ],
   "metadata": {
    "collapsed": false,
    "pycharm": {
     "name": "#%%\n",
     "is_executing": false
    }
   }
  },
  {
   "cell_type": "code",
   "execution_count": 5,
   "outputs": [],
   "source": [
    "from torchvision.utils import make_grid\n",
    "from matplotlib.image import imsave\n",
    "\n",
    "def show_example(numbers=20, save_img=True, filename=None):\n",
    "    noise = get_noise(numbers)\n",
    "    images = generator(noise).detach().cpu()\n",
    "    grid = make_grid(images, 4).permute(1, 2, 0).numpy()\n",
    "    \n",
    "    plt.figure(figsize=(10, 10))\n",
    "    plt.axis('off')\n",
    "    plt.imshow(grid)\n",
    "    \n",
    "def save_example(numbers=20, file_suffix=None):\n",
    "    noise = get_noise(numbers)\n",
    "    images = generator(noise).detach().cpu()\n",
    "    grid = make_grid(images, 4).permute(1, 2, 0).numpy()\n",
    "    filename = f'generated/waifu_{int(time.time() * 1e3) % 1000000:6}_{file_suffix}.png'\n",
    "    imsave(filename, grid)\n",
    "        "
   ],
   "metadata": {
    "collapsed": false,
    "pycharm": {
     "name": "#%%\n",
     "is_executing": false
    }
   }
  },
  {
   "cell_type": "code",
   "execution_count": 6,
   "outputs": [
    {
     "name": "stdout",
     "text": [
      "Training start\n",
      "epoch: 1, iterations: 800, time: 369.81 sec\n",
      "epoch: 2, iterations: 800, time: 738.67 sec\n",
      "epoch: 3, iterations: 800, time: 1106.66 sec\n",
      "epoch: 4, iterations: 800, time: 1473.52 sec\n",
      "epoch: 5, iterations: 800, time: 1840.43 sec\n",
      "epoch: 6, iterations: 800, time: 2207.11 sec\n",
      "epoch: 7, iterations: 800, time: 2574.65 sec\n",
      "epoch: 8, iterations: 800, time: 2944.30 sec\n",
      "epoch: 9, iterations: 800, time: 3312.85 sec\n",
      "epoch: 10, iterations: 800, time: 3680.98 sec\n",
      "epoch: 11, iterations: 800, time: 4049.10 sec\n",
      "epoch: 12, iterations: 800, time: 4415.85 sec\n",
      "epoch: 13, iterations: 800, time: 4786.10 sec\n",
      "epoch: 14, iterations: 800, time: 5156.09 sec\n",
      "epoch: 15, iterations: 800, time: 5526.53 sec\n",
      "epoch: 16, iterations: 800, time: 5899.98 sec\n",
      "epoch: 17, iterations: 800, time: 6271.11 sec\n",
      "epoch: 18, iterations: 800, time: 6641.05 sec\n",
      "epoch: 19, iterations: 800, time: 7010.43 sec\n",
      "epoch: 20, iterations: 800, time: 7377.28 sec\n",
      "epoch: 21, iterations: 800, time: 7745.76 sec\n",
      "epoch: 22, iterations: 800, time: 8112.59 sec\n",
      "epoch: 23, iterations: 800, time: 8479.80 sec\n",
      "epoch: 24, iterations: 800, time: 8847.25 sec\n",
      "epoch: 25, iterations: 800, time: 9214.19 sec\n",
      "epoch: 26, iterations: 800, time: 9585.70 sec\n",
      "epoch: 27, iterations: 800, time: 9958.58 sec\n",
      "epoch: 28, iterations: 800, time: 10331.05 sec\n",
      "epoch: 29, iterations: 800, time: 10699.06 sec\n",
      "epoch: 30, iterations: 800, time: 11066.89 sec\n",
      "epoch: 31, iterations: 800, time: 11437.97 sec\n",
      "epoch: 32, iterations: 800, time: 11809.54 sec\n",
      "epoch: 33, iterations: 800, time: 12176.81 sec\n",
      "epoch: 34, iterations: 800, time: 12544.65 sec\n",
      "epoch: 35, iterations: 800, time: 12913.73 sec\n",
      "epoch: 36, iterations: 800, time: 13283.93 sec\n",
      "epoch: 37, iterations: 800, time: 13654.94 sec\n",
      "epoch: 38, iterations: 800, time: 14027.17 sec\n",
      "epoch: 39, iterations: 800, time: 14394.57 sec\n",
      "epoch: 40, iterations: 800, time: 14761.70 sec\n",
      "epoch: 41, iterations: 800, time: 15130.05 sec\n",
      "epoch: 42, iterations: 800, time: 15500.27 sec\n",
      "epoch: 43, iterations: 800, time: 15873.25 sec\n",
      "epoch: 44, iterations: 800, time: 16243.39 sec\n",
      "epoch: 45, iterations: 800, time: 16615.96 sec\n",
      "epoch: 46, iterations: 800, time: 16985.79 sec\n",
      "epoch: 47, iterations: 800, time: 17358.53 sec\n",
      "epoch: 48, iterations: 800, time: 17729.91 sec\n",
      "epoch: 49, iterations: 800, time: 18102.30 sec\n",
      "epoch: 50, iterations: 800, time: 18474.43 sec\n",
      "epoch: 51, iterations: 800, time: 18842.56 sec\n",
      "epoch: 52, iterations: 800, time: 19212.68 sec\n",
      "epoch: 53, iterations: 800, time: 19584.09 sec\n",
      "epoch: 54, iterations: 800, time: 19953.32 sec\n",
      "epoch: 55, iterations: 800, time: 20325.92 sec\n",
      "epoch: 56, iterations: 800, time: 20695.18 sec\n",
      "epoch: 57, iterations: 800, time: 21067.00 sec\n",
      "epoch: 58, iterations: 800, time: 21438.37 sec\n",
      "epoch: 59, iterations: 800, time: 21806.08 sec\n",
      "epoch: 60, iterations: 800, time: 22177.89 sec\n",
      "epoch: 61, iterations: 800, time: 22545.69 sec\n",
      "epoch: 62, iterations: 800, time: 22916.04 sec\n",
      "epoch: 63, iterations: 800, time: 23288.51 sec\n",
      "epoch: 64, iterations: 800, time: 23657.66 sec\n",
      "epoch: 65, iterations: 800, time: 24030.76 sec\n",
      "epoch: 66, iterations: 800, time: 24403.26 sec\n",
      "epoch: 67, iterations: 800, time: 24776.09 sec\n",
      "epoch: 68, iterations: 800, time: 25148.37 sec\n",
      "epoch: 69, iterations: 800, time: 25521.70 sec\n",
      "epoch: 70, iterations: 800, time: 25894.17 sec\n",
      "epoch: 71, iterations: 800, time: 26264.72 sec\n",
      "epoch: 72, iterations: 800, time: 26638.15 sec\n",
      "epoch: 73, iterations: 800, time: 27008.58 sec\n",
      "epoch: 74, iterations: 800, time: 27382.73 sec\n",
      "epoch: 75, iterations: 800, time: 27755.56 sec\n",
      "epoch: 76, iterations: 800, time: 28130.27 sec\n",
      "epoch: 77, iterations: 800, time: 28503.19 sec\n",
      "epoch: 78, iterations: 800, time: 28880.45 sec\n",
      "epoch: 79, iterations: 800, time: 29255.70 sec\n",
      "epoch: 80, iterations: 800, time: 29627.41 sec\n",
      "epoch: 81, iterations: 800, time: 30003.95 sec\n",
      "epoch: 82, iterations: 800, time: 30376.29 sec\n",
      "epoch: 83, iterations: 800, time: 30745.42 sec\n",
      "epoch: 84, iterations: 800, time: 31118.85 sec\n",
      "epoch: 85, iterations: 800, time: 31491.94 sec\n",
      "epoch: 86, iterations: 800, time: 31868.54 sec\n",
      "epoch: 87, iterations: 800, time: 32237.53 sec\n",
      "epoch: 88, iterations: 800, time: 32604.07 sec\n",
      "epoch: 89, iterations: 800, time: 32970.68 sec\n",
      "epoch: 90, iterations: 800, time: 33337.75 sec\n",
      "epoch: 91, iterations: 800, time: 33705.86 sec\n",
      "epoch: 92, iterations: 800, time: 34075.23 sec\n",
      "epoch: 93, iterations: 800, time: 34445.85 sec\n",
      "epoch: 94, iterations: 800, time: 34813.55 sec\n",
      "epoch: 95, iterations: 800, time: 35187.66 sec\n",
      "epoch: 96, iterations: 800, time: 35562.82 sec\n",
      "epoch: 97, iterations: 800, time: 35934.25 sec\n",
      "epoch: 98, iterations: 800, time: 36306.17 sec\n",
      "epoch: 99, iterations: 800, time: 36677.24 sec\n",
      "epoch: 100, iterations: 800, time: 37061.39 sec\n"
     ],
     "output_type": "stream"
    }
   ],
   "source": [
    "import time\n",
    "from torch.utils.tensorboard import SummaryWriter\n",
    "\n",
    "writer = SummaryWriter()\n",
    "real_labels = torch.ones(size=(batch_size, 1)).cuda()\n",
    "fake_labels = torch.zeros(size=(batch_size, 1)).cuda()\n",
    "\n",
    "def train(epochs):\n",
    "    print('Training start')\n",
    "    time_start = time.time()\n",
    "    # plot_sep = 50\n",
    "    # iteration_cnt = 0\n",
    "    # g_loss_record = []\n",
    "    # d_real_loss_record = []\n",
    "    # d_fake_loss_record = []\n",
    "    # g_loss_cumsum = 0\n",
    "    # d_real_loss_cumsum = 0\n",
    "    # d_fake_loss_cumsum = 0\n",
    "    for e in range(epochs):\n",
    "        for i, images in enumerate(WaifuLoader):\n",
    "            if images.shape[0] != batch_size:\n",
    "                continue\n",
    "            \n",
    "            # train generator\n",
    "            generated_images = generator(get_noise(batch_size))\n",
    "            d_fake_discrimination = discriminator(generated_images)\n",
    "            g_loss = loss_func(d_fake_discrimination, real_labels)\n",
    "            g_optimizer.zero_grad()\n",
    "            g_loss.backward()\n",
    "            g_optimizer.step()\n",
    "    \n",
    "            # train discriminator\n",
    "            d_real_discrimination = discriminator(images.cuda())\n",
    "            d_fake_discrimination = discriminator(generated_images.detach())\n",
    "            d_real_loss = loss_func(d_real_discrimination, real_labels)\n",
    "            d_fake_loss = loss_func(d_fake_discrimination, fake_labels)\n",
    "            d_loss = d_real_loss + d_fake_loss\n",
    "            d_optimizer.zero_grad()\n",
    "            d_loss.backward()\n",
    "            d_optimizer.step()\n",
    "            \n",
    "            time_train = time.time() - time_start\n",
    "            print(f'\\repoch: {e+1}, iterations: {i+1}, time: {time_train:.2f} sec', end='')\n",
    "            \n",
    "            writer.add_scalar('Loss/generator', g_loss.item())\n",
    "            writer.add_scalar('Loss/discriminator', d_loss.item())\n",
    "            # iteration_cnt += 1\n",
    "            # g_loss_cumsum += g_loss.item()\n",
    "            # d_real_loss_cumsum += d_real_loss.item()\n",
    "            # d_fake_loss_cumsum += d_fake_loss.item()\n",
    "            # if iteration_cnt == plot_sep:\n",
    "            #     g_loss_record.append(g_loss_cumsum / plot_sep)\n",
    "            #     d_real_loss_record.append(d_real_loss_cumsum / plot_sep)\n",
    "            #     d_fake_loss_record.append(d_fake_loss_cumsum / plot_sep)\n",
    "            #     g_loss_cumsum, d_real_loss_cumsum, d_fake_loss_cumsum, iteration_cnt = 0, 0, 0, 0\n",
    "        print('')\n",
    "        save_example(file_suffix=f'epoch{e + 1:0>3}')\n",
    "    \n",
    "    # plt.plot(g_loss_record)\n",
    "    # plt.plot(d_real_loss_record)\n",
    "    # plt.plot(d_fake_loss_record)\n",
    "    # plt.legend(('g loss', 'd real loss', 'd fake loss'))\n",
    "\n",
    "train(epochs=100)\n",
    "\n",
    "\n"
   ],
   "metadata": {
    "collapsed": false,
    "pycharm": {
     "name": "#%%\n",
     "is_executing": false
    }
   }
  },
  {
   "cell_type": "code",
   "execution_count": 6,
   "outputs": [],
   "source": [
    "\n"
   ],
   "metadata": {
    "collapsed": false,
    "pycharm": {
     "name": "#%%\n",
     "is_executing": false
    }
   }
  }
 ],
 "metadata": {
  "kernelspec": {
   "display_name": "Python 3",
   "language": "python",
   "name": "python3"
  },
  "language_info": {
   "codemirror_mode": {
    "name": "ipython",
    "version": 2
   },
   "file_extension": ".py",
   "mimetype": "text/x-python",
   "name": "python",
   "nbconvert_exporter": "python",
   "pygments_lexer": "ipython2",
   "version": "2.7.6"
  },
  "pycharm": {
   "stem_cell": {
    "cell_type": "raw",
    "source": [],
    "metadata": {
     "collapsed": false
    }
   }
  }
 },
 "nbformat": 4,
 "nbformat_minor": 0
}