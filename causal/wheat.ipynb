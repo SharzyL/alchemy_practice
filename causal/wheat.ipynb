{
 "cells": [
  {
   "cell_type": "code",
   "execution_count": 1,
   "metadata": {
    "collapsed": true,
    "pycharm": {
     "is_executing": false
    }
   },
   "outputs": [],
   "source": [
    "import pandas as pd\n",
    "import pickle\n",
    "\n",
    "\n",
    "dt = pd.read_csv('../_data/wheat/wheat.csv')\n",
    "sample = pd.read_csv('../_data/wheat/sample.csv')\n",
    "\n",
    "from tqdm import tqdm"
   ]
  },
  {
   "cell_type": "code",
   "execution_count": 2,
   "outputs": [],
   "source": [
    "geo = pd.read_csv('../_data/wheat/countries.csv')\n",
    "longitudes = {\n",
    "    country: geo[geo.Country == country].iat[0, 2]\n",
    "    for country in geo.Country\n",
    "}\n",
    "latitudes = {\n",
    "    country: geo[geo.Country == country].iat[0, 1]\n",
    "    for country in geo.Country\n",
    "}\n",
    "\n",
    "all_cols = {\n",
    "    'precipitation': [\n",
    "        'all_Precip_jan','all_Precip_feb','all_Precip_mar','all_Precip_apr','all_Precip_may','all_Precip_jun',\n",
    "        'all_Precip_jul','all_Precip_aug','all_Precip_sep','all_Precip_oct','all_Precip_nov','all_Precip_dec',\n",
    "        'all_Precip_jan_faavg','all_Precip_feb_faavg','all_Precip_mar_faavg','all_Precip_apr_faavg','all_Precip_may_faavg','all_Precip_jun_faavg',\n",
    "        'all_Precip_jul_faavg','all_Precip_aug_faavg','all_Precip_sep_faavg','all_Precip_oct_faavg','all_Precip_nov_faavg','all_Precip_dec_faavg',\n",
    "    ],\n",
    "    \n",
    "    'temperature': [\n",
    "        'all_Temp_jan','all_Temp_feb','all_Temp_mar','all_Temp_apr','all_Temp_may','all_Temp_jun',\n",
    "        'all_Temp_jul','all_Temp_aug','all_Temp_sep','all_Temp_oct','all_Temp_nov','all_Temp_dec',\n",
    "        'all_Temp_jan_faavg','all_Temp_feb_faavg','all_Temp_mar_faavg','all_Temp_apr_faavg','all_Temp_may_faavg','all_Temp_jun_faavg',\n",
    "        'all_Temp_jul_faavg','all_Temp_aug_faavg','all_Temp_sep_faavg','all_Temp_oct_faavg','all_Temp_nov_faavg','all_Temp_dec_faavg',\n",
    "    ],\n",
    "    \n",
    "    'us_production': [\n",
    "        'US_wheat_production','USprod_Cabbages','USprod_Carrots_turnips','USprod_Cotton_lint','USprod_Grapefruit',\n",
    "        'USprod_Grapes','USprod_Lettuce','USprod_Onions_dry','USprod_Oranges','USprod_Peaches_nectarines','USprod_Watermelons',\n",
    "    ],\n",
    "    \n",
    "    'recipient_info': [\n",
    "        # 'risocode','recipient_country','wb_region','obs',\n",
    "        'year','total_population','roads_per_capita','rgdpch','ln_rgdpch',\n",
    "        'recipient_pc_wheat_prod_avg','recipient_pc_cereals_prod_avg',\n",
    "        'recipient_wheat_prod','recipient_cereals_prod',\n",
    "    ],\n",
    "    \n",
    "    'aid_info': [\n",
    "        'wheat_aid','fadum','fadum_avg',\n",
    "        'real_usmilaid','real_us_nonfoodaid_ecaid',\n",
    "        'world_wheat_aid','world_cereals_aid',\n",
    "        # 'non_US_wheat_aid','non_US_cereals_aid','non_us_oda_net','non_us_oda_net2',\n",
    "        'real_usmilaid_avg','real_usecaid_avg','real_us_nonfoodaid_ecaid_avg',\n",
    "    ],\n",
    "    \n",
    "    'us_info': [\n",
    "        'USA_rgdpch','s2unUSA','wheat_price_xrat_US_curr','fao_cereal_production','US_president_democ',\n",
    "    ],\n",
    "    \n",
    "    'conflict_info': [\n",
    "        'any_war','intra_state','inter_state','intra_state_onset','intra_state_offset','peace_dur','intra_state_dur','intensity',\n",
    "    ],\n",
    "    \n",
    "    'misc': [\n",
    "        'cereal_pc_import_quantity_avg','oil_price_2011_USD','resource_share_GDP',\n",
    "        'polity2_from_P4','alesina_ethnic','polrqnew',\n",
    "    ],\n",
    "    \n",
    "    'abstracted': [\n",
    "        'precipitation', 'temperature', 'us_production', 'longitude', 'latitude'\n",
    "    ]\n",
    "}\n",
    "\n",
    "df = pd.DataFrame()\n",
    "df = df.assign(\n",
    "    precipitation = sum([dt[col] for col in all_cols['precipitation']]),\n",
    "    temperature = sum([dt[col] for col in all_cols['temperature']]),\n",
    "    us_production = sum([dt[col] for col in all_cols['us_production']]),\n",
    "    longitude = dt.recipient_country.apply(lambda x: longitudes[x]),\n",
    "    latitude = dt.recipient_country.apply(lambda x: latitudes[x]),\n",
    ")\n",
    "\n",
    "for col_category in ['recipient_info', 'aid_info', 'us_info', 'conflict_info']:\n",
    "    for col in all_cols[col_category]:\n",
    "        df[col] = dt[col]\n"
   ],
   "metadata": {
    "collapsed": false,
    "pycharm": {
     "name": "#%%\n",
     "is_executing": false
    }
   }
  },
  {
   "cell_type": "code",
   "execution_count": 3,
   "outputs": [
    {
     "name": "stderr",
     "text": [
      "100%|██████████| 29/29 [01:21<00:00,  2.82s/it]\n"
     ],
     "output_type": "stream"
    }
   ],
   "source": [
    "from sklearn.ensemble import RandomForestRegressor\n",
    "from tqdm import tqdm\n",
    "\n",
    "        \n",
    "nan_map = df.isna()\n",
    "nan_stat = nan_map.sum().sort_values()\n",
    "nan_cols = nan_stat[nan_stat > 0].index\n",
    "train_cols = ['year', 'longitude', 'latitude', 'total_population', 'USA_rgdpch', 'fadum_avg']\n",
    "for nan_col in tqdm(nan_cols):\n",
    "    train_data = df[nan_map[nan_col] == 0]\n",
    "    predict_data = df[nan_map[nan_col]]\n",
    "    X = train_data[train_cols]\n",
    "    Y = train_data[nan_col]\n",
    "    regressor = RandomForestRegressor(100)\n",
    "    regressor.fit(X, Y)\n",
    "    predicted = regressor.predict(predict_data[train_cols])\n",
    "    i = 0\n",
    "    for index, row in df.iterrows():\n",
    "        if row.isna()[nan_col]:\n",
    "            df.iloc[index][nan_col] = predicted[i]\n",
    "            i += 1"
   ],
   "metadata": {
    "collapsed": false,
    "pycharm": {
     "name": "#%%\n",
     "is_executing": false
    }
   }
  },
  {
   "cell_type": "code",
   "execution_count": 4,
   "outputs": [
    {
     "name": "stderr",
     "text": [
      "  9%|▉         | 2428/25974 [2:00:03<7:44:23,  1.18s/it]   "
     ],
     "output_type": "stream"
    }
   ],
   "source": [
    "from causality.inference.search import IC\n",
    "from causality.inference.independence_tests import RobustRegressionTest\n",
    "import warnings\n",
    "warnings.filterwarnings('ignore')\n",
    "\n",
    "vt = {key: 'c' for key in df.columns}\n",
    "ic_algorithm = IC(RobustRegressionTest)\n",
    "graph = ic_algorithm.search(df, variable_types=vt)"
   ],
   "metadata": {
    "collapsed": false,
    "pycharm": {
     "name": "#%%\n",
     "is_executing": false
    }
   }
  },
  {
   "cell_type": "code",
   "execution_count": 10,
   "outputs": [
    {
     "name": "stdout",
     "text": [
      "('precipitation', {'type': 'c'})\n",
      "('temperature', {'type': 'c'})\n",
      "('us_production', {'type': 'c'})\n",
      "('longitude', {'type': 'c'})\n",
      "('latitude', {'type': 'c'})\n",
      "('year', {'type': 'c'})\n",
      "('total_population', {'type': 'c'})\n",
      "('roads_per_capita', {'type': 'c'})\n",
      "('rgdpch', {'type': 'c'})\n",
      "('ln_rgdpch', {'type': 'c'})\n",
      "('recipient_pc_wheat_prod_avg', {'type': 'c'})\n",
      "('recipient_pc_cereals_prod_avg', {'type': 'c'})\n",
      "('recipient_wheat_prod', {'type': 'c'})\n",
      "('recipient_cereals_prod', {'type': 'c'})\n",
      "('wheat_aid', {'type': 'c'})\n",
      "('fadum', {'type': 'c'})\n",
      "('fadum_avg', {'type': 'c'})\n",
      "('real_usmilaid', {'type': 'c'})\n",
      "('real_us_nonfoodaid_ecaid', {'type': 'c'})\n",
      "('world_wheat_aid', {'type': 'c'})\n",
      "('world_cereals_aid', {'type': 'c'})\n",
      "('real_usmilaid_avg', {'type': 'c'})\n",
      "('real_usecaid_avg', {'type': 'c'})\n",
      "('real_us_nonfoodaid_ecaid_avg', {'type': 'c'})\n",
      "('USA_rgdpch', {'type': 'c'})\n",
      "('s2unUSA', {'type': 'c'})\n",
      "('wheat_price_xrat_US_curr', {'type': 'c'})\n",
      "('fao_cereal_production', {'type': 'c'})\n",
      "('US_president_democ', {'type': 'c'})\n",
      "('any_war', {'type': 'c'})\n",
      "('intra_state', {'type': 'c'})\n",
      "('inter_state', {'type': 'c'})\n",
      "('intra_state_onset', {'type': 'c'})\n",
      "('intra_state_offset', {'type': 'c'})\n",
      "('peace_dur', {'type': 'c'})\n",
      "('intra_state_dur', {'type': 'c'})\n",
      "('intensity', {'type': 'c'})\n"
     ],
     "output_type": "stream"
    }
   ],
   "source": [
    "for node in graph.nodes(data=True):\n",
    "    print(node)"
   ],
   "metadata": {
    "collapsed": false,
    "pycharm": {
     "name": "#%%\n",
     "is_executing": false
    }
   }
  },
  {
   "cell_type": "code",
   "execution_count": 12,
   "outputs": [
    {
     "data": {
      "text/plain": "'Digraph.gv.pdf'"
     },
     "metadata": {},
     "output_type": "execute_result",
     "execution_count": 12
    }
   ],
   "source": [
    "from graphviz import Digraph\n",
    "\n",
    "def get_color(col):\n",
    "    abstracted_dict = {\n",
    "        'precipitation': 'recipient_info',\n",
    "        'temperature': 'recipient_info',\n",
    "        'us_production': 'us_info',\n",
    "        'longitude': 'recipient_info',\n",
    "        'latitude': 'recipient_info'\n",
    "    }\n",
    "    color_dict = {\n",
    "        'recipient_info': 'black',\n",
    "        'us_info': 'gray',\n",
    "        'misc': 'chocolote',\n",
    "        'aid_info': 'green',\n",
    "        'conflict_info': 'red',\n",
    "    }\n",
    "    if col in abstracted_dict:\n",
    "        return color_dict[abstracted_dict[col]]\n",
    "    else:\n",
    "        for category in all_cols:\n",
    "            if col in all_cols[category]:\n",
    "                return color_dict[category]\n",
    "\n",
    "gra = Digraph()\n",
    "\n",
    "for node in graph.nodes():\n",
    "    color = get_color(node)\n",
    "    gra.node(node, color=color)\n",
    "    \n",
    "for edge in graph.edges(data=True):\n",
    "    node1 = edge[0]\n",
    "    node2 = edge[1]\n",
    "    arrows = edge[2]['arrows']\n",
    "    to1 = node1 in arrows\n",
    "    to2 = node2 in arrows\n",
    "    \n",
    "    direction = 'none'\n",
    "    if to1 and to2:\n",
    "        direction = 'both'\n",
    "    elif to1:\n",
    "        direction = 'back'\n",
    "    elif to2:\n",
    "        direction = 'forward'\n",
    "        \n",
    "    color = 'red' if edge[2]['marked'] else 'black' \n",
    "    \n",
    "    gra.edge(node1, node2, dir=direction, color=color)\n",
    "\n",
    "gra.view()"
   ],
   "metadata": {
    "collapsed": false,
    "pycharm": {
     "name": "#%%\n",
     "is_executing": false
    }
   }
  }
 ],
 "metadata": {
  "kernelspec": {
   "display_name": "Python 3",
   "language": "python",
   "name": "python3"
  },
  "language_info": {
   "codemirror_mode": {
    "name": "ipython",
    "version": 2
   },
   "file_extension": ".py",
   "mimetype": "text/x-python",
   "name": "python",
   "nbconvert_exporter": "python",
   "pygments_lexer": "ipython2",
   "version": "2.7.6"
  },
  "pycharm": {
   "stem_cell": {
    "cell_type": "raw",
    "source": [],
    "metadata": {
     "collapsed": false
    }
   }
  }
 },
 "nbformat": 4,
 "nbformat_minor": 0
}