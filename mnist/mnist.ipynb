{
 "cells": [
  {
   "cell_type": "code",
   "execution_count": 1,
   "metadata": {
    "collapsed": true,
    "pycharm": {
     "is_executing": false
    }
   },
   "outputs": [],
   "source": [
    "import torch\n",
    "import torch.nn as nn\n",
    "import torch.nn.functional as f\n",
    "import torch.optim as optim\n",
    "import torch.utils.data as data\n",
    "import torchvision\n",
    "import torchvision.transforms as transforms\n",
    "import time\n",
    "\n",
    "import matplotlib.pyplot as plt\n",
    "import numpy as np\n",
    "plt.style.use('dark_background')\n",
    "\n",
    "batch_size = 100\n",
    "num_epochs = 5"
   ]
  },
  {
   "cell_type": "code",
   "execution_count": 2,
   "outputs": [
    {
     "name": "stdout",
     "text": [
      "Loading data\n",
      "Load data ok\n"
     ],
     "output_type": "stream"
    }
   ],
   "source": [
    "transform = transforms.Compose(\n",
    "    (transforms.ToTensor(),\n",
    "     transforms.Normalize((0.5,), (1,))\n",
    "     ))\n",
    "\n",
    "train_dataset = torchvision.datasets.MNIST(root='../_data',\n",
    "                                           train=True,\n",
    "                                           transform=transform,\n",
    "                                           download=True)\n",
    "\n",
    "test_dataset = torchvision.datasets.MNIST(root='../_data',\n",
    "                                          train=False,\n",
    "                                          transform=transform)\n",
    "\n",
    "train_loader = data.DataLoader(dataset=train_dataset,\n",
    "                               batch_size=batch_size,\n",
    "                               shuffle=True)\n",
    "\n",
    "test_loader = data.DataLoader(dataset=test_dataset,\n",
    "                              batch_size=batch_size,\n",
    "                              shuffle=False)\n",
    "\n",
    "mnist_training_data = {}\n",
    "mnist_test_data = {}\n",
    "\n",
    "print('Loading data')\n",
    "\n",
    "for i, (images, labels) in enumerate(train_loader):\n",
    "    mnist_training_data[i] = (images, labels)\n",
    "    \n",
    "for i, (images, labels) in enumerate(test_loader):\n",
    "    mnist_test_data[i] = (images, labels)\n",
    "    \n",
    "print('Load data ok')"
   ],
   "metadata": {
    "collapsed": false,
    "pycharm": {
     "name": "#%%\n",
     "is_executing": false
    }
   }
  },
  {
   "cell_type": "code",
   "execution_count": 3,
   "outputs": [],
   "source": [
    "class MLPNet(nn.Module):\n",
    "    def __init__(self):\n",
    "        super(MLPNet, self).__init__()\n",
    "        self.fc1 = nn.Linear(28 * 28, 500)\n",
    "        self.fc2 = nn.Linear(500, 256)\n",
    "        self.fc3 = nn.Linear(256, 10)\n",
    "\n",
    "    def forward(self, x):\n",
    "        x = x.view(-1, 28 * 28)\n",
    "        x = f.relu(self.fc1(x))\n",
    "        x = f.relu(self.fc2(x))\n",
    "        x = self.fc3(x)\n",
    "        return x\n",
    "\n",
    "    @staticmethod\n",
    "    def name():\n",
    "        return 'MLPNet'\n",
    "\n",
    "class LeNet(nn.Module):\n",
    "    def __init__(self):\n",
    "        super(LeNet, self).__init__()\n",
    "        self.conv1 = nn.Conv2d(1, 20, 5, 1)\n",
    "        self.conv2 = nn.Conv2d(20, 50, 5, 1)\n",
    "        self.fc1 = nn.Linear(4 * 4 * 50, 500)\n",
    "        self.fc2 = nn.Linear(500, 10)\n",
    "\n",
    "    def forward(self, x):\n",
    "        x = f.relu(self.conv1(x))\n",
    "        x = f.max_pool2d(x, 2, 2)\n",
    "        x = f.relu(self.conv2(x))\n",
    "        x = f.max_pool2d(x, 2, 2)\n",
    "        x = x.view(-1, 4 * 4 * 50)\n",
    "        x = f.relu(self.fc1(x))\n",
    "        x = self.fc2(x)\n",
    "        return x\n",
    "\n",
    "    @staticmethod\n",
    "    def name():\n",
    "        return 'LeNet'"
   ],
   "metadata": {
    "collapsed": false,
    "pycharm": {
     "name": "#%%\n",
     "is_executing": false
    }
   }
  },
  {
   "cell_type": "code",
   "execution_count": 4,
   "outputs": [],
   "source": [
    "net = LeNet().cuda()\n",
    "# try:\n",
    "#     net.load_state_dict(torch.load(f'{net.name()}.ckpt'))\n",
    "# except RuntimeError:\n",
    "#     pass\n",
    "# except FileNotFoundError:\n",
    "#     pass\n",
    "\n",
    "\n",
    "criterion = nn.CrossEntropyLoss()\n",
    "optimizer = optim.SGD(net.parameters(), lr=1e-2, momentum=0.9)\n"
   ],
   "metadata": {
    "collapsed": false,
    "pycharm": {
     "name": "#%%\n",
     "is_executing": false
    }
   }
  },
  {
   "cell_type": "code",
   "execution_count": 5,
   "outputs": [],
   "source": [
    "def test_accuracy():\n",
    "    with torch.no_grad():\n",
    "        correct = 0\n",
    "        total = 0\n",
    "        total_loss = 0\n",
    "        for _images, _labels in test_loader:\n",
    "            _images = _images.cuda()\n",
    "            _labels = _labels.cuda()\n",
    "            _outputs = net(_images)\n",
    "            total_loss += criterion(outputs, labels)\n",
    "            _, predicted = torch.max(_outputs.data, 1)\n",
    "            total += _labels.size(0)\n",
    "            correct += (predicted == _labels).sum().item()\n",
    "    print(f'test loss      = {total_loss / len(mnist_test_data):.5}')\n",
    "    print(f'test accuracy  = {correct / total * 100:.4}%\\n')\n"
   ],
   "metadata": {
    "collapsed": false,
    "pycharm": {
     "name": "#%%\n",
     "is_executing": false
    }
   }
  },
  {
   "cell_type": "code",
   "execution_count": 6,
   "outputs": [
    {
     "name": "stdout",
     "text": [
      "epoch=1, batch=600, time=9.092 secss\n",
      "train loss     = 2.0971\n",
      "test loss      = 1.613\n",
      "test accuracy  = 89.14%\n",
      "\n",
      "epoch=2, batch=600, time=18.025 secs\n",
      "train loss     = 1.5468\n",
      "test loss      = 1.515\n",
      "test accuracy  = 95.22%\n",
      "\n",
      "epoch=3, batch=600, time=27.322 secs\n",
      "train loss     = 1.5093\n",
      "test loss      = 1.5109\n",
      "test accuracy  = 96.89%\n",
      "\n",
      "epoch=4, batch=600, time=36.804 secs\n",
      "train loss     = 1.4969\n",
      "test loss      = 1.5039\n",
      "test accuracy  = 97.41%\n",
      "\n",
      "epoch=5, batch=600, time=45.471 secs\n",
      "train loss     = 1.4906\n",
      "test loss      = 1.4953\n",
      "test accuracy  = 97.7%\n",
      "\n"
     ],
     "output_type": "stream"
    }
   ],
   "source": [
    "time_start = time.time()\n",
    "for epoch in range(num_epochs):\n",
    "    total_loss = 0\n",
    "    for i, (images, labels) in mnist_training_data.items():\n",
    "        # Move tensors to the configured device\n",
    "        images = images.cuda()\n",
    "        labels = labels.cuda()\n",
    "\n",
    "        # Forward pass\n",
    "        outputs = f.softmax(net(images), dim=1)\n",
    "        loss = criterion(outputs, labels)\n",
    "        total_loss += loss\n",
    "\n",
    "        # Backward and optimize\n",
    "        optimizer.zero_grad()\n",
    "        loss.backward()\n",
    "        optimizer.step()\n",
    "        print('\\r' + f'epoch={epoch + 1}, batch={i + 1}, time={(time.time()-time_start):.5} secs', end='')\n",
    "    print(f'\\ntrain loss     = {total_loss / len(mnist_training_data):.5}')\n",
    "    test_accuracy()\n",
    "\n",
    "# torch.save(net.state_dict, f'{net.name()}.ckpt')\n"
   ],
   "metadata": {
    "collapsed": false,
    "pycharm": {
     "name": "#%%\n",
     "is_executing": false
    }
   }
  },
  {
   "cell_type": "code",
   "execution_count": 7,
   "outputs": [
    {
     "data": {
      "text/plain": "<Figure size 432x288 with 10 Axes>",
      "image/png": "[encoded data removed]"
     },
     "metadata": {},
     "output_type": "display_data"
    }
   ],
   "source": [
    "def show_wrong_guess():\n",
    "    wrong_guess_cnt = 0\n",
    "    for _, (_images, _labels) in mnist_test_data.items():\n",
    "        _images = _images.cuda()\n",
    "        _labels = _labels.cuda()\n",
    "        _outputs = net(_images)\n",
    "        _, predicted = torch.max(_outputs, 1)\n",
    "        wrong = (predicted != _labels)\n",
    "        for j in range(batch_size):\n",
    "            if wrong[j]:\n",
    "                if wrong_guess_cnt == 10:\n",
    "                    break\n",
    "                plt.subplot(2, 5, wrong_guess_cnt + 1)\n",
    "                plt.imshow(_images[j][0].cpu())\n",
    "                plt.xticks([])\n",
    "                plt.yticks([])\n",
    "                plt.title(f'{predicted[j]} : {_labels[j]}')\n",
    "                wrong_guess_cnt += 1\n",
    "        if wrong_guess_cnt == 10:\n",
    "            break\n",
    "            \n",
    "show_wrong_guess()"
   ],
   "metadata": {
    "collapsed": false,
    "pycharm": {
     "name": "#%%\n",
     "is_executing": false
    }
   }
  },
  {
   "cell_type": "code",
   "execution_count": 8,
   "outputs": [
    {
     "data": {
      "text/plain": "<Figure size 432x288 with 1 Axes>",
      "image/png": "[encoded data removed]"
     },
     "metadata": {},
     "output_type": "display_data"
    }
   ],
   "source": [
    "def show_contingency_grid():\n",
    "    grayscale = np.zeros((10, 10))\n",
    "    for _, (_images, _labels) in mnist_test_data.items():\n",
    "        _images = _images.cuda()\n",
    "        _labels = _labels.cuda()\n",
    "        _outputs = net(_images)\n",
    "        _, predicted = torch.max(_outputs, 1)\n",
    "        for j in range(batch_size):\n",
    "            if predicted[j] != _labels[j]:\n",
    "                grayscale[predicted[j]][_labels[j]] += 1\n",
    "    plt.imshow(grayscale)\n",
    "    plt.xticks(np.linspace(0, 9, num=10))\n",
    "    plt.xlabel('predicted')\n",
    "    plt.yticks(np.linspace(0, 9, num=10))\n",
    "    plt.ylabel('fact')\n",
    "    plt.title('Distribution of wrong guess')\n",
    "\n",
    "show_contingency_grid()\n",
    "            "
   ],
   "metadata": {
    "collapsed": false,
    "pycharm": {
     "name": "#%%\n",
     "is_executing": false
    }
   }
  },
  {
   "cell_type": "code",
   "execution_count": 9,
   "outputs": [],
   "source": [
    "# t1 = torch.randn(1, 3)\n",
    "# t2 = torch.tensor([1])\n",
    "# print(t1, t2, sep='\\n')\n",
    "# criterion(t1, t2)\n",
    "\n",
    "\n"
   ],
   "metadata": {
    "collapsed": false,
    "pycharm": {
     "name": "#%%\n",
     "is_executing": false
    }
   }
  }
 ],
 "metadata": {
  "kernelspec": {
   "display_name": "Python 3",
   "language": "python",
   "name": "python3"
  },
  "language_info": {
   "codemirror_mode": {
    "name": "ipython",
    "version": 2
   },
   "file_extension": ".py",
   "mimetype": "text/x-python",
   "name": "python",
   "nbconvert_exporter": "python",
   "pygments_lexer": "ipython2",
   "version": "2.7.6"
  },
  "pycharm": {
   "stem_cell": {
    "cell_type": "raw",
    "source": [],
    "metadata": {
     "collapsed": false
    }
   }
  }
 },
 "nbformat": 4,
 "nbformat_minor": 0
}